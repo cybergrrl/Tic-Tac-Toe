{
 "cells": [
  {
   "cell_type": "code",
   "execution_count": null,
   "metadata": {},
   "outputs": [],
   "source": [
    "from IPython.display import clear_output\n",
    "\n",
    "def display_board(board):    \n",
    "    print(\" {} | {} | {} \".format(board[1],board[2],board[3]))\n",
    "    print(\"-----------\")\n",
    "    print(\" {} | {} | {} \".format(board[4],board[5],board[6]))\n",
    "    print(\"-----------\")\n",
    "    print(\" {} | {} | {} \".format(board[7],board[8],board[9]))"
   ]
  },
  {
   "cell_type": "code",
   "execution_count": null,
   "metadata": {},
   "outputs": [],
   "source": [
    "def player_input():\n",
    "    player1 = \"\"\n",
    "    \n",
    "    while player1 != \"X\" and player1 != \"O\":\n",
    "         player1 = input(\"Player 1, please choose if you want to be X or O: \")\n",
    "    \n",
    "    if player1 == \"X\":\n",
    "        player2 = \"O\"\n",
    "    else:\n",
    "        player2 = \"X\"\n",
    "   \n",
    "    return (player1, player2)"
   ]
  },
  {
   "cell_type": "code",
   "execution_count": null,
   "metadata": {},
   "outputs": [],
   "source": [
    "def place_marker(board, marker, position):\n",
    "    board[position] = marker"
   ]
  },
  {
   "cell_type": "code",
   "execution_count": null,
   "metadata": {},
   "outputs": [],
   "source": [
    "def win_check(board, mark):\n",
    "    #win_combinations:\n",
    "    win1 = [board[1], board[2], board[3]]\n",
    "    win2 = [board[4], board[5], board[6]]\n",
    "    win3 = [board[7], board[8], board[9]]\n",
    "    win4 = [board[1], board[5], board[9]]\n",
    "    win5 = [board[3], board[5], board[7]]\n",
    "    win6 = [board[1], board[4], board[7]]\n",
    "    win7 = [board[2], board[5], board[8]]\n",
    "    win8 = [board[3], board[6], board[9]]\n",
    "    \n",
    "    win_combs = [win1, win2, win3, win4, win5, win6, win7, win8]\n",
    "    \n",
    "    for comb in win_combs:\n",
    "        if comb[0] == comb[1] == comb[2]:\n",
    "            return comb[0] == mark\n",
    "    return False\n",
    "                "
   ]
  },
  {
   "cell_type": "code",
   "execution_count": null,
   "metadata": {},
   "outputs": [],
   "source": [
    "import random\n",
    "\n",
    "def choose_first():\n",
    "    if random.randint(1,2) == 1:\n",
    "        return \"Player 1\"\n",
    "    else:\n",
    "        return \"Player 2\""
   ]
  },
  {
   "cell_type": "code",
   "execution_count": null,
   "metadata": {},
   "outputs": [],
   "source": [
    "def space_check(board, position):\n",
    "    return board[position] == \" \""
   ]
  },
  {
   "cell_type": "code",
   "execution_count": null,
   "metadata": {},
   "outputs": [],
   "source": [
    "def full_board_check(board):\n",
    "    for position in board:        \n",
    "        if \" \" in board:\n",
    "            return False\n",
    "        else:\n",
    "            return True"
   ]
  },
  {
   "cell_type": "code",
   "execution_count": null,
   "metadata": {},
   "outputs": [],
   "source": [
    "def player_choice(board):\n",
    "    position = 0\n",
    "    \n",
    "    while position not in [1,2,3,4,5,6,7,8,9] or not space_check(board, position):\n",
    "        try:\n",
    "            position = int(input(\"Choose where to put your next mark (1-9): \"))\n",
    "        except:\n",
    "            print(\"Enter a number between 1 and 9 please.\")\n",
    "   \n",
    "    return position"
   ]
  },
  {
   "cell_type": "code",
   "execution_count": null,
   "metadata": {},
   "outputs": [],
   "source": [
    "def replay():\n",
    "    again = input(\"Do you want another go? Type 'yes' or 'no': \")\n",
    "    return again == \"yes\""
   ]
  },
  {
   "cell_type": "code",
   "execution_count": null,
   "metadata": {},
   "outputs": [],
   "source": [
    "print('Welcome to Tic Tac Toe!')\n",
    "\n",
    "while True:\n",
    "    explainboard = [\"#\",\"1\", \"2\", \"3\", \"4\", \"5\", \"6\", \"7\", \"8\", \"9\"]\n",
    "    gameboard = [\"#\",\" \", \" \", \" \", \" \", \" \", \" \", \" \", \" \", \" \"]\n",
    "    \n",
    "    play_game = input(\"Enter 'yes' to start the game: \")\n",
    "\n",
    "    if play_game.lower() == \"yes\":\n",
    "        game_on = True\n",
    "    else:\n",
    "        game_on = False\n",
    "        break\n",
    "        \n",
    "    player1_mark, player2_mark = player_input() #this is to later insert X or O\n",
    "    print(\"Player 1 will be {}. Player 2 will be {}.\".format(player1_mark, player2_mark))\n",
    "    \n",
    "    turn = choose_first()\n",
    "    print(turn + \" will go first.\")\n",
    "    display_board(explainboard)\n",
    "    \n",
    "    while game_on:\n",
    "        #player 1 turn\n",
    "        if turn == \"Player 1\":\n",
    "            print(\"Your turn, Player 1!\")\n",
    "            #show board:\n",
    "            display_board(gameboard)\n",
    "            #choose positin:\n",
    "            position = player_choice(gameboard)\n",
    "            #place marker:\n",
    "            place_marker(gameboard, player1_mark, position)\n",
    "            #check if they won\n",
    "            if win_check(gameboard, player1_mark):\n",
    "                display_board(gameboard)\n",
    "                print(\"CONGRATULATIONS, PLAYER 1! You won!\")\n",
    "                game_on = False\n",
    "            #check for tie\n",
    "            else:\n",
    "                if full_board_check(gameboard):\n",
    "                    display_board(gameboard)\n",
    "                    print(\"Well played! This is a draw.\")\n",
    "                    game_on = False\n",
    "                else:\n",
    "                    turn = \"Player 2\"\n",
    "        \n",
    "        else:        \n",
    "        #player 2 turn\n",
    "            print(\"Your turn, Player 2!\")\n",
    "            display_board(gameboard)\n",
    "            position = player_choice(gameboard)\n",
    "            place_marker(gameboard, player2_mark, position)\n",
    "            \n",
    "            if win_check(gameboard, player2_mark):\n",
    "                display_board(gameboard)\n",
    "                print(\"CONGRATULATIONS, PLAYER 2! You won!\")\n",
    "                game_on = False\n",
    "            else:\n",
    "                if full_board_check(gameboard):\n",
    "                    display_board(gameboard)\n",
    "                    print(\"Well played! This is a draw.\")\n",
    "                    game_on = False\n",
    "                else:\n",
    "                    turn = \"Player 1\"\n",
    "        \n",
    "    if not replay():\n",
    "        break"
   ]
  }
 ],
 "metadata": {
  "kernelspec": {
   "display_name": "Python 3",
   "language": "python",
   "name": "python3"
  },
  "language_info": {
   "codemirror_mode": {
    "name": "ipython",
    "version": 3
   },
   "file_extension": ".py",
   "mimetype": "text/x-python",
   "name": "python",
   "nbconvert_exporter": "python",
   "pygments_lexer": "ipython3",
   "version": "3.7.1"
  }
 },
 "nbformat": 4,
 "nbformat_minor": 2
}
